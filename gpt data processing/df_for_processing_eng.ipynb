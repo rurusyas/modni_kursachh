{
 "cells": [
  {
   "cell_type": "markdown",
   "metadata": {},
   "source": [
    "## Перевод промтов на **русский** ##"
   ]
  },
  {
   "cell_type": "code",
   "execution_count": 46,
   "metadata": {},
   "outputs": [],
   "source": [
    "import pandas as pd"
   ]
  },
  {
   "cell_type": "code",
   "execution_count": 47,
   "metadata": {},
   "outputs": [
    {
     "name": "stderr",
     "output_type": "stream",
     "text": [
      "/var/folders/2w/pb1tg6913llbt6y2rwws4nb00000gn/T/ipykernel_869/2732021378.py:1: DtypeWarning: Columns (349,351,353,583,584,585,586) have mixed types. Specify dtype option on import or set low_memory=False.\n",
      "  demo = pd.read_csv('/Users/elizavetakuznecenkova/Library/CloudStorage/OneDrive-Personal/Документы/ВШЭ/Курсач/WVS Wave 7/WVS_Cross-National_Wave_7_csv_v6_0.csv')\n"
     ]
    }
   ],
   "source": [
    "demo = pd.read_csv('/Users/elizavetakuznecenkova/Library/CloudStorage/OneDrive-Personal/Документы/ВШЭ/Курсач/WVS Wave 7/WVS_Cross-National_Wave_7_csv_v6_0.csv')"
   ]
  },
  {
   "cell_type": "code",
   "execution_count": 48,
   "metadata": {},
   "outputs": [
    {
     "data": {
      "text/html": [
       "<div>\n",
       "<style scoped>\n",
       "    .dataframe tbody tr th:only-of-type {\n",
       "        vertical-align: middle;\n",
       "    }\n",
       "\n",
       "    .dataframe tbody tr th {\n",
       "        vertical-align: top;\n",
       "    }\n",
       "\n",
       "    .dataframe thead th {\n",
       "        text-align: right;\n",
       "    }\n",
       "</style>\n",
       "<table border=\"1\" class=\"dataframe\">\n",
       "  <thead>\n",
       "    <tr style=\"text-align: right;\">\n",
       "      <th></th>\n",
       "      <th>Unnamed: 0.2</th>\n",
       "      <th>Unnamed: 0.1</th>\n",
       "      <th>Unnamed: 0</th>\n",
       "      <th>version</th>\n",
       "      <th>doi</th>\n",
       "      <th>A_WAVE</th>\n",
       "      <th>A_YEAR</th>\n",
       "      <th>A_STUDY</th>\n",
       "      <th>B_COUNTRY</th>\n",
       "      <th>B_COUNTRY_ALPHA</th>\n",
       "      <th>...</th>\n",
       "      <th>WVS_Polmistrust_PartyVoter</th>\n",
       "      <th>WVS_LR_MedianVoter</th>\n",
       "      <th>WVS_LibCon_MedianVoter</th>\n",
       "      <th>v2psbars</th>\n",
       "      <th>v2psorgs</th>\n",
       "      <th>v2psprbrch</th>\n",
       "      <th>v2psprlnks</th>\n",
       "      <th>v2psplats</th>\n",
       "      <th>v2xnp_client</th>\n",
       "      <th>v2xps_party</th>\n",
       "    </tr>\n",
       "  </thead>\n",
       "  <tbody>\n",
       "    <tr>\n",
       "      <th>0</th>\n",
       "      <td>0</td>\n",
       "      <td>0</td>\n",
       "      <td>0</td>\n",
       "      <td>6-0-0 (2024-04-30)</td>\n",
       "      <td>doi.org/10.14281/18241.24</td>\n",
       "      <td>7</td>\n",
       "      <td>2018</td>\n",
       "      <td>2</td>\n",
       "      <td>20</td>\n",
       "      <td>AND</td>\n",
       "      <td>...</td>\n",
       "      <td>62.434211</td>\n",
       "      <td>-999.0</td>\n",
       "      <td>-999.0</td>\n",
       "      <td>-999.0</td>\n",
       "      <td>-999.0</td>\n",
       "      <td>-999.0</td>\n",
       "      <td>-999.0</td>\n",
       "      <td>-999.0</td>\n",
       "      <td>-999.0</td>\n",
       "      <td>-999.0</td>\n",
       "    </tr>\n",
       "    <tr>\n",
       "      <th>1</th>\n",
       "      <td>1</td>\n",
       "      <td>1</td>\n",
       "      <td>1</td>\n",
       "      <td>6-0-0 (2024-04-30)</td>\n",
       "      <td>doi.org/10.14281/18241.24</td>\n",
       "      <td>7</td>\n",
       "      <td>2018</td>\n",
       "      <td>2</td>\n",
       "      <td>20</td>\n",
       "      <td>AND</td>\n",
       "      <td>...</td>\n",
       "      <td>62.434211</td>\n",
       "      <td>-999.0</td>\n",
       "      <td>-999.0</td>\n",
       "      <td>-999.0</td>\n",
       "      <td>-999.0</td>\n",
       "      <td>-999.0</td>\n",
       "      <td>-999.0</td>\n",
       "      <td>-999.0</td>\n",
       "      <td>-999.0</td>\n",
       "      <td>-999.0</td>\n",
       "    </tr>\n",
       "    <tr>\n",
       "      <th>2</th>\n",
       "      <td>2</td>\n",
       "      <td>2</td>\n",
       "      <td>2</td>\n",
       "      <td>6-0-0 (2024-04-30)</td>\n",
       "      <td>doi.org/10.14281/18241.24</td>\n",
       "      <td>7</td>\n",
       "      <td>2018</td>\n",
       "      <td>2</td>\n",
       "      <td>20</td>\n",
       "      <td>AND</td>\n",
       "      <td>...</td>\n",
       "      <td>62.434211</td>\n",
       "      <td>-999.0</td>\n",
       "      <td>-999.0</td>\n",
       "      <td>-999.0</td>\n",
       "      <td>-999.0</td>\n",
       "      <td>-999.0</td>\n",
       "      <td>-999.0</td>\n",
       "      <td>-999.0</td>\n",
       "      <td>-999.0</td>\n",
       "      <td>-999.0</td>\n",
       "    </tr>\n",
       "    <tr>\n",
       "      <th>3</th>\n",
       "      <td>3</td>\n",
       "      <td>3</td>\n",
       "      <td>3</td>\n",
       "      <td>6-0-0 (2024-04-30)</td>\n",
       "      <td>doi.org/10.14281/18241.24</td>\n",
       "      <td>7</td>\n",
       "      <td>2018</td>\n",
       "      <td>2</td>\n",
       "      <td>20</td>\n",
       "      <td>AND</td>\n",
       "      <td>...</td>\n",
       "      <td>NaN</td>\n",
       "      <td>NaN</td>\n",
       "      <td>NaN</td>\n",
       "      <td>NaN</td>\n",
       "      <td>NaN</td>\n",
       "      <td>NaN</td>\n",
       "      <td>NaN</td>\n",
       "      <td>NaN</td>\n",
       "      <td>NaN</td>\n",
       "      <td>NaN</td>\n",
       "    </tr>\n",
       "    <tr>\n",
       "      <th>4</th>\n",
       "      <td>4</td>\n",
       "      <td>4</td>\n",
       "      <td>4</td>\n",
       "      <td>6-0-0 (2024-04-30)</td>\n",
       "      <td>doi.org/10.14281/18241.24</td>\n",
       "      <td>7</td>\n",
       "      <td>2018</td>\n",
       "      <td>2</td>\n",
       "      <td>20</td>\n",
       "      <td>AND</td>\n",
       "      <td>...</td>\n",
       "      <td>66.964286</td>\n",
       "      <td>-999.0</td>\n",
       "      <td>-999.0</td>\n",
       "      <td>-999.0</td>\n",
       "      <td>-999.0</td>\n",
       "      <td>-999.0</td>\n",
       "      <td>-999.0</td>\n",
       "      <td>-999.0</td>\n",
       "      <td>-999.0</td>\n",
       "      <td>-999.0</td>\n",
       "    </tr>\n",
       "  </tbody>\n",
       "</table>\n",
       "<p>5 rows × 616 columns</p>\n",
       "</div>"
      ],
      "text/plain": [
       "   Unnamed: 0.2  Unnamed: 0.1  Unnamed: 0             version  \\\n",
       "0             0             0           0  6-0-0 (2024-04-30)   \n",
       "1             1             1           1  6-0-0 (2024-04-30)   \n",
       "2             2             2           2  6-0-0 (2024-04-30)   \n",
       "3             3             3           3  6-0-0 (2024-04-30)   \n",
       "4             4             4           4  6-0-0 (2024-04-30)   \n",
       "\n",
       "                         doi  A_WAVE  A_YEAR  A_STUDY  B_COUNTRY  \\\n",
       "0  doi.org/10.14281/18241.24       7    2018        2         20   \n",
       "1  doi.org/10.14281/18241.24       7    2018        2         20   \n",
       "2  doi.org/10.14281/18241.24       7    2018        2         20   \n",
       "3  doi.org/10.14281/18241.24       7    2018        2         20   \n",
       "4  doi.org/10.14281/18241.24       7    2018        2         20   \n",
       "\n",
       "  B_COUNTRY_ALPHA  ...  WVS_Polmistrust_PartyVoter WVS_LR_MedianVoter  \\\n",
       "0             AND  ...                   62.434211             -999.0   \n",
       "1             AND  ...                   62.434211             -999.0   \n",
       "2             AND  ...                   62.434211             -999.0   \n",
       "3             AND  ...                         NaN                NaN   \n",
       "4             AND  ...                   66.964286             -999.0   \n",
       "\n",
       "   WVS_LibCon_MedianVoter  v2psbars  v2psorgs  v2psprbrch  v2psprlnks  \\\n",
       "0                  -999.0    -999.0    -999.0      -999.0      -999.0   \n",
       "1                  -999.0    -999.0    -999.0      -999.0      -999.0   \n",
       "2                  -999.0    -999.0    -999.0      -999.0      -999.0   \n",
       "3                     NaN       NaN       NaN         NaN         NaN   \n",
       "4                  -999.0    -999.0    -999.0      -999.0      -999.0   \n",
       "\n",
       "   v2psplats  v2xnp_client  v2xps_party  \n",
       "0     -999.0        -999.0       -999.0  \n",
       "1     -999.0        -999.0       -999.0  \n",
       "2     -999.0        -999.0       -999.0  \n",
       "3        NaN           NaN          NaN  \n",
       "4     -999.0        -999.0       -999.0  \n",
       "\n",
       "[5 rows x 616 columns]"
      ]
     },
     "execution_count": 48,
     "metadata": {},
     "output_type": "execute_result"
    }
   ],
   "source": [
    "demo.head()"
   ]
  },
  {
   "cell_type": "code",
   "execution_count": 49,
   "metadata": {},
   "outputs": [
    {
     "data": {
      "text/plain": [
       "66"
      ]
     },
     "execution_count": 49,
     "metadata": {},
     "output_type": "execute_result"
    }
   ],
   "source": [
    "len(set(demo['B_COUNTRY_ALPHA'].to_list()))"
   ]
  },
  {
   "cell_type": "code",
   "execution_count": 50,
   "metadata": {},
   "outputs": [],
   "source": [
    "Q260 = pd.read_csv('/Users/elizavetakuznecenkova/Library/CloudStorage/OneDrive-Personal/Документы/ВШЭ/Курсач/questions/Q260_new.csv')\n",
    "Q262 = pd.read_csv('/Users/elizavetakuznecenkova/Library/CloudStorage/OneDrive-Personal/Документы/ВШЭ/Курсач/questions/Q262_new.csv')\n",
    "Q272 = pd.read_csv('/Users/elizavetakuznecenkova/Library/CloudStorage/OneDrive-Personal/Документы/ВШЭ/Курсач/questions/Q272_new_eng_rus_FINAL.csv')\n",
    "Q273 = pd.read_csv('/Users/elizavetakuznecenkova/Library/CloudStorage/OneDrive-Personal/Документы/ВШЭ/Курсач/questions/Q273_new.csv')\n",
    "Q274 = pd.read_csv('/Users/elizavetakuznecenkova/Library/CloudStorage/OneDrive-Personal/Документы/ВШЭ/Курсач/questions/Q274_new.csv')\n",
    "Q275 = pd.read_csv('/Users/elizavetakuznecenkova/Library/CloudStorage/OneDrive-Personal/Документы/ВШЭ/Курсач/questions/Q275_new.csv')\n",
    "Q281 = pd.read_csv('/Users/elizavetakuznecenkova/Library/CloudStorage/OneDrive-Personal/Документы/ВШЭ/Курсач/questions/Q281_new.csv')\n",
    "# Q284 = pd.read_csv('/Users/elizavetakuznecenkova/Library/CloudStorage/OneDrive-Personal/Документы/ВШЭ/Курсач/questions/Q284_new.csv')\n",
    "Q287 = pd.read_csv('/Users/elizavetakuznecenkova/Library/CloudStorage/OneDrive-Personal/Документы/ВШЭ/Курсач/questions/Q287_new.csv')\n",
    "Q288R = pd.read_csv('/Users/elizavetakuznecenkova/Library/CloudStorage/OneDrive-Personal/Документы/ВШЭ/Курсач/questions/Q288_new.csv')\n",
    "Q289 = pd.read_csv('/Users/elizavetakuznecenkova/Library/CloudStorage/OneDrive-Personal/Документы/ВШЭ/Курсач/questions/Q289_new.csv')\n",
    "Q290 = pd.read_csv('/Users/elizavetakuznecenkova/Library/CloudStorage/OneDrive-Personal/Документы/ВШЭ/Курсач/questions/Q290_new_eng_rus_FINAL.csv')\n",
    "YEAR = pd.read_csv('/Users/elizavetakuznecenkova/Library/CloudStorage/OneDrive-Personal/Документы/ВШЭ/Курсач/questions/YEAR_new.csv')\n",
    "COUNTRY = pd.read_csv('/Users/elizavetakuznecenkova/Library/CloudStorage/OneDrive-Personal/Документы/ВШЭ/Курсач/questions/COUNTRY_NAME_new.csv')"
   ]
  },
  {
   "cell_type": "markdown",
   "metadata": {},
   "source": [
    "## Приведем все названия колонок к цифрам ##"
   ]
  },
  {
   "cell_type": "code",
   "execution_count": 51,
   "metadata": {},
   "outputs": [
    {
     "data": {
      "text/plain": [
       "Index(['Unnamed: 0', 'idx', 'lang', '1', '2', '-2', '-4', '-5'], dtype='object')"
      ]
     },
     "execution_count": 51,
     "metadata": {},
     "output_type": "execute_result"
    }
   ],
   "source": [
    "Q260.columns"
   ]
  },
  {
   "cell_type": "code",
   "execution_count": 52,
   "metadata": {},
   "outputs": [
    {
     "data": {
      "text/plain": [
       "Index(['Unnamed: 0', 'idx', 'lang', 1, 2, -2, -4, -5], dtype='object')"
      ]
     },
     "execution_count": 52,
     "metadata": {},
     "output_type": "execute_result"
    }
   ],
   "source": [
    "col = Q260.columns.to_list()\n",
    "for i in range(len(col)):\n",
    "    try:\n",
    "        col[i] = int(col[i])\n",
    "    except:\n",
    "        pass\n",
    "Q260.columns = col\n",
    "Q260.columns"
   ]
  },
  {
   "cell_type": "code",
   "execution_count": 53,
   "metadata": {},
   "outputs": [
    {
     "name": "stdout",
     "output_type": "stream",
     "text": [
      "Index(['Unnamed: 0', 'idx', 'lang', '0'], dtype='object')\n"
     ]
    },
    {
     "data": {
      "text/plain": [
       "Index(['Unnamed: 0', 'idx', 'lang', 0], dtype='object')"
      ]
     },
     "execution_count": 53,
     "metadata": {},
     "output_type": "execute_result"
    }
   ],
   "source": [
    "print(Q262.columns)\n",
    "\n",
    "col = Q262.columns.to_list()\n",
    "for i in range(len(col)):\n",
    "    try:\n",
    "        col[i] = int(col[i])\n",
    "    except:\n",
    "        pass\n",
    "Q262.columns = col\n",
    "Q262.columns"
   ]
  },
  {
   "cell_type": "code",
   "execution_count": 54,
   "metadata": {},
   "outputs": [
    {
     "name": "stdout",
     "output_type": "stream",
     "text": [
      "Index(['Unnamed: 0', 'idx', 'lang', '30', '40', '100', '140', '170', '200',\n",
      "       '230',\n",
      "       ...\n",
      "       '4410', '4420', '4430', '4450', '4460', '4470', '4520', '4580', '4610',\n",
      "       '4620'],\n",
      "      dtype='object', length=161)\n"
     ]
    },
    {
     "data": {
      "text/plain": [
       "Index(['Unnamed: 0',        'idx',       'lang',           30,           40,\n",
       "                100,          140,          170,          200,          230,\n",
       "       ...\n",
       "               4410,         4420,         4430,         4450,         4460,\n",
       "               4470,         4520,         4580,         4610,         4620],\n",
       "      dtype='object', length=161)"
      ]
     },
     "execution_count": 54,
     "metadata": {},
     "output_type": "execute_result"
    }
   ],
   "source": [
    "print(Q272.columns)\n",
    "\n",
    "col = Q272.columns.to_list()\n",
    "for i in range(len(col)):\n",
    "    try:\n",
    "        col[i] = int(col[i])\n",
    "    except:\n",
    "        pass\n",
    "Q272.columns = col\n",
    "Q272.columns"
   ]
  },
  {
   "cell_type": "code",
   "execution_count": 55,
   "metadata": {},
   "outputs": [
    {
     "name": "stdout",
     "output_type": "stream",
     "text": [
      "Index(['Unnamed: 0', 'idx', 'lang', '1', '2', '3', '4', '5', '6', '-1', '-5',\n",
      "       '-2'],\n",
      "      dtype='object')\n"
     ]
    },
    {
     "data": {
      "text/plain": [
       "Index(['Unnamed: 0', 'idx', 'lang', 1, 2, 3, 4, 5, 6, -1, -5, -2], dtype='object')"
      ]
     },
     "execution_count": 55,
     "metadata": {},
     "output_type": "execute_result"
    }
   ],
   "source": [
    "print(Q273.columns)\n",
    "\n",
    "col = Q273.columns.to_list()\n",
    "for i in range(len(col)):\n",
    "    try:\n",
    "        col[i] = int(col[i])\n",
    "    except:\n",
    "        pass\n",
    "Q273.columns = col\n",
    "Q273.columns"
   ]
  },
  {
   "cell_type": "code",
   "execution_count": 56,
   "metadata": {},
   "outputs": [
    {
     "name": "stdout",
     "output_type": "stream",
     "text": [
      "Index(['Unnamed: 0', 'idx', 'lang', '0', '-1', '-5', '-4', '-2'], dtype='object')\n"
     ]
    },
    {
     "data": {
      "text/plain": [
       "Index(['Unnamed: 0', 'idx', 'lang', 0, -1, -5, -4, -2], dtype='object')"
      ]
     },
     "execution_count": 56,
     "metadata": {},
     "output_type": "execute_result"
    }
   ],
   "source": [
    "print(Q274.columns)\n",
    "\n",
    "col = Q274.columns.to_list()\n",
    "for i in range(len(col)):\n",
    "    try:\n",
    "        col[i] = int(col[i])\n",
    "    except:\n",
    "        pass\n",
    "Q274.columns = col\n",
    "Q274.columns"
   ]
  },
  {
   "cell_type": "code",
   "execution_count": 57,
   "metadata": {},
   "outputs": [
    {
     "name": "stdout",
     "output_type": "stream",
     "text": [
      "Index(['Unnamed: 0', 'idx', 'lang', '0', '1', '2', '3', '4', '5', '6', '7',\n",
      "       '8', '-1', '-5', '-2'],\n",
      "      dtype='object')\n"
     ]
    },
    {
     "data": {
      "text/plain": [
       "Index(['Unnamed: 0', 'idx', 'lang', 0, 1, 2, 3, 4, 5, 6, 7, 8, -1, -5, -2], dtype='object')"
      ]
     },
     "execution_count": 57,
     "metadata": {},
     "output_type": "execute_result"
    }
   ],
   "source": [
    "print(Q275.columns)\n",
    "\n",
    "col = Q275.columns.to_list()\n",
    "for i in range(len(col)):\n",
    "    try:\n",
    "        col[i] = int(col[i])\n",
    "    except:\n",
    "        pass\n",
    "Q275.columns = col\n",
    "Q275.columns"
   ]
  },
  {
   "cell_type": "code",
   "execution_count": 58,
   "metadata": {},
   "outputs": [
    {
     "name": "stdout",
     "output_type": "stream",
     "text": [
      "Index(['Unnamed: 0', 'idx', 'lang', '0', '1', '2', '3', '4', '5', '6', '7',\n",
      "       '8', '9', '10', '11', '-1', '-5', '-3', '-2'],\n",
      "      dtype='object')\n"
     ]
    },
    {
     "data": {
      "text/plain": [
       "Index(['Unnamed: 0',        'idx',       'lang',            0,            1,\n",
       "                  2,            3,            4,            5,            6,\n",
       "                  7,            8,            9,           10,           11,\n",
       "                 -1,           -5,           -3,           -2],\n",
       "      dtype='object')"
      ]
     },
     "execution_count": 58,
     "metadata": {},
     "output_type": "execute_result"
    }
   ],
   "source": [
    "print(Q281.columns)\n",
    "\n",
    "col = Q281.columns.to_list()\n",
    "for i in range(len(col)):\n",
    "    try:\n",
    "        col[i] = int(col[i])\n",
    "    except:\n",
    "        pass\n",
    "Q281.columns = col\n",
    "Q281.columns"
   ]
  },
  {
   "cell_type": "code",
   "execution_count": 59,
   "metadata": {},
   "outputs": [
    {
     "name": "stdout",
     "output_type": "stream",
     "text": [
      "Index(['Unnamed: 0', 'idx', 'lang', '1', '2', '3', '4', '5', '-1', '-5', '-4',\n",
      "       '-2'],\n",
      "      dtype='object')\n"
     ]
    },
    {
     "data": {
      "text/plain": [
       "Index(['Unnamed: 0', 'idx', 'lang', 1, 2, 3, 4, 5, -1, -5, -4, -2], dtype='object')"
      ]
     },
     "execution_count": 59,
     "metadata": {},
     "output_type": "execute_result"
    }
   ],
   "source": [
    "print(Q287.columns)\n",
    "\n",
    "col = Q287.columns.to_list()\n",
    "for i in range(len(col)):\n",
    "    try:\n",
    "        col[i] = int(col[i])\n",
    "    except:\n",
    "        pass\n",
    "Q287.columns = col\n",
    "Q287.columns"
   ]
  },
  {
   "cell_type": "code",
   "execution_count": 60,
   "metadata": {},
   "outputs": [
    {
     "name": "stdout",
     "output_type": "stream",
     "text": [
      "Index(['Unnamed: 0', 'idx', 'lang', '1', '2', '3', '-1', '-5', '-2'], dtype='object')\n"
     ]
    },
    {
     "data": {
      "text/plain": [
       "Index(['Unnamed: 0', 'idx', 'lang', 1, 2, 3, -1, -5, -2], dtype='object')"
      ]
     },
     "execution_count": 60,
     "metadata": {},
     "output_type": "execute_result"
    }
   ],
   "source": [
    "print(Q288R.columns)\n",
    "\n",
    "col = Q288R.columns.to_list()\n",
    "for i in range(len(col)):\n",
    "    try:\n",
    "        col[i] = int(col[i])\n",
    "    except:\n",
    "        pass\n",
    "Q288R.columns = col\n",
    "Q288R.columns"
   ]
  },
  {
   "cell_type": "code",
   "execution_count": 61,
   "metadata": {},
   "outputs": [
    {
     "name": "stdout",
     "output_type": "stream",
     "text": [
      "Index(['Unnamed: 0', 'idx', 'lang', '0', '1', '2', '3', '4', '5', '6', '7',\n",
      "       '8', '9', '-1', '-5', '-2'],\n",
      "      dtype='object')\n"
     ]
    },
    {
     "data": {
      "text/plain": [
       "Index(['Unnamed: 0', 'idx', 'lang', 0, 1, 2, 3, 4, 5, 6, 7, 8, 9, -1, -5, -2], dtype='object')"
      ]
     },
     "execution_count": 61,
     "metadata": {},
     "output_type": "execute_result"
    }
   ],
   "source": [
    "print(Q289.columns)\n",
    "\n",
    "col = Q289.columns.to_list()\n",
    "for i in range(len(col)):\n",
    "    try:\n",
    "        col[i] = int(col[i])\n",
    "    except:\n",
    "        pass\n",
    "Q289.columns = col\n",
    "Q289.columns"
   ]
  },
  {
   "cell_type": "code",
   "execution_count": 62,
   "metadata": {},
   "outputs": [
    {
     "name": "stdout",
     "output_type": "stream",
     "text": [
      "Index(['Unnamed: 0', 'Unnamed: 1', 'Unnamed: 2', 'idx', 'lang', '20001',\n",
      "       '20002', '20003', '20004', '20005',\n",
      "       ...\n",
      "       '909003', '909005', '909007', '909010', '909013', '909014', '909015',\n",
      "       '909016', '909017', '203001.0'],\n",
      "      dtype='object', length=436)\n"
     ]
    },
    {
     "data": {
      "text/plain": [
       "Index(['Unnamed: 0', 'Unnamed: 1', 'Unnamed: 2',        'idx',       'lang',\n",
       "              20001,        20002,        20003,        20004,        20005,\n",
       "       ...\n",
       "             909003,       909005,       909007,       909010,       909013,\n",
       "             909014,       909015,       909016,       909017,   '203001.0'],\n",
       "      dtype='object', length=436)"
      ]
     },
     "execution_count": 62,
     "metadata": {},
     "output_type": "execute_result"
    }
   ],
   "source": [
    "print(Q290.columns)\n",
    "\n",
    "col = Q290.columns.to_list()\n",
    "for i in range(len(col)):\n",
    "    try:\n",
    "        col[i] = int(col[i])\n",
    "    except:\n",
    "        pass\n",
    "Q290.columns = col\n",
    "Q290.columns"
   ]
  },
  {
   "cell_type": "code",
   "execution_count": 63,
   "metadata": {},
   "outputs": [
    {
     "name": "stdout",
     "output_type": "stream",
     "text": [
      "Index(['Unnamed: 0', 'idx', 'lang', '2017', '2018', '2019', '2020', '2021',\n",
      "       '2022', '2023'],\n",
      "      dtype='object')\n"
     ]
    },
    {
     "data": {
      "text/plain": [
       "Index(['Unnamed: 0', 'idx', 'lang', 2017, 2018, 2019, 2020, 2021, 2022, 2023], dtype='object')"
      ]
     },
     "execution_count": 63,
     "metadata": {},
     "output_type": "execute_result"
    }
   ],
   "source": [
    "print(YEAR.columns)\n",
    "\n",
    "col = YEAR.columns.to_list()\n",
    "for i in range(len(col)):\n",
    "    try:\n",
    "        col[i] = int(col[i])\n",
    "    except:\n",
    "        pass\n",
    "YEAR.columns = col\n",
    "YEAR.columns"
   ]
  },
  {
   "cell_type": "code",
   "execution_count": 64,
   "metadata": {},
   "outputs": [
    {
     "name": "stdout",
     "output_type": "stream",
     "text": [
      "Index(['Unnamed: 0', 'idx', 'lang', 'ALB', 'AND', 'ARG', 'ARM', 'AUS', 'AUT',\n",
      "       'AZE', 'BGD', 'BLR', 'BOL', 'BIH', 'BRA', 'BGR', 'CAN', 'CHL', 'CHN',\n",
      "       'COL', 'HRV', 'CYP', 'CZE', 'DNK', 'ECU', 'EGY', 'EST', 'ETH', 'FIN',\n",
      "       'FRA', 'GEO', 'DEU', 'GBR', 'GRC', 'GTM', 'HKG', 'HUN', 'ISL', 'IND',\n",
      "       'IDN', 'IRN', 'IRQ', 'ITA', 'JPN', 'JOR', 'KAZ', 'KEN', 'KGZ', 'LVA',\n",
      "       'LBN', 'LBY', 'LTU', 'MAC', 'MYS', 'MDV', 'MEX', 'MOR', 'MNG', 'MNE',\n",
      "       'MMR', 'NLD', 'NZL', 'NIC', 'NGA', 'MKD', 'NIR', 'NOR', 'PAK', 'PER',\n",
      "       'PHL', 'POL', 'PRT', 'PRI', 'ROU', 'RUS', 'SRB', 'SGP', 'SVK', 'SVN',\n",
      "       'KOR', 'ESP', 'SWE', 'CHE', 'TWN', 'TJK', 'THA', 'TUN', 'TUR', 'UKR',\n",
      "       'USA', 'URY', 'UZB', 'VNM', 'ZWE', 'VEN'],\n",
      "      dtype='object')\n"
     ]
    },
    {
     "data": {
      "text/plain": [
       "Index(['Unnamed: 0', 'idx', 'lang', 'ALB', 'AND', 'ARG', 'ARM', 'AUS', 'AUT',\n",
       "       'AZE', 'BGD', 'BLR', 'BOL', 'BIH', 'BRA', 'BGR', 'CAN', 'CHL', 'CHN',\n",
       "       'COL', 'HRV', 'CYP', 'CZE', 'DNK', 'ECU', 'EGY', 'EST', 'ETH', 'FIN',\n",
       "       'FRA', 'GEO', 'DEU', 'GBR', 'GRC', 'GTM', 'HKG', 'HUN', 'ISL', 'IND',\n",
       "       'IDN', 'IRN', 'IRQ', 'ITA', 'JPN', 'JOR', 'KAZ', 'KEN', 'KGZ', 'LVA',\n",
       "       'LBN', 'LBY', 'LTU', 'MAC', 'MYS', 'MDV', 'MEX', 'MOR', 'MNG', 'MNE',\n",
       "       'MMR', 'NLD', 'NZL', 'NIC', 'NGA', 'MKD', 'NIR', 'NOR', 'PAK', 'PER',\n",
       "       'PHL', 'POL', 'PRT', 'PRI', 'ROU', 'RUS', 'SRB', 'SGP', 'SVK', 'SVN',\n",
       "       'KOR', 'ESP', 'SWE', 'CHE', 'TWN', 'TJK', 'THA', 'TUN', 'TUR', 'UKR',\n",
       "       'USA', 'URY', 'UZB', 'VNM', 'ZWE', 'VEN'],\n",
       "      dtype='object')"
      ]
     },
     "execution_count": 64,
     "metadata": {},
     "output_type": "execute_result"
    }
   ],
   "source": [
    "print(COUNTRY.columns)\n",
    "\n",
    "col = COUNTRY.columns.to_list()\n",
    "for i in range(len(col)):\n",
    "    try:\n",
    "        col[i] = int(col[i])\n",
    "    except:\n",
    "        pass\n",
    "COUNTRY.columns = col\n",
    "COUNTRY.columns"
   ]
  },
  {
   "cell_type": "markdown",
   "metadata": {},
   "source": [
    "## Проверим значения demo на выбросы, которых нет в таблицах с вопросами ##"
   ]
  },
  {
   "cell_type": "code",
   "execution_count": 65,
   "metadata": {},
   "outputs": [
    {
     "data": {
      "text/plain": [
       "{-1}"
      ]
     },
     "execution_count": 65,
     "metadata": {},
     "output_type": "execute_result"
    }
   ],
   "source": [
    "set(demo['Q260'].to_list()) - set(Q260.columns.to_list())"
   ]
  },
  {
   "cell_type": "code",
   "execution_count": 66,
   "metadata": {},
   "outputs": [],
   "source": [
    "Q260[-1] = pd.NA"
   ]
  },
  {
   "cell_type": "code",
   "execution_count": 67,
   "metadata": {},
   "outputs": [
    {
     "data": {
      "text/plain": [
       "{-5,\n",
       " -4,\n",
       " -2,\n",
       " -1,\n",
       " 1105,\n",
       " 1190,\n",
       " 1940,\n",
       " 2190,\n",
       " 3750,\n",
       " 3900,\n",
       " 4530,\n",
       " 9000,\n",
       " 9040,\n",
       " 9060,\n",
       " 9900}"
      ]
     },
     "execution_count": 67,
     "metadata": {},
     "output_type": "execute_result"
    }
   ],
   "source": [
    "set(demo['Q272'].to_list()) - set(Q272.columns.to_list())"
   ]
  },
  {
   "cell_type": "code",
   "execution_count": 68,
   "metadata": {},
   "outputs": [],
   "source": [
    "Q272[-5] = pd.NA\n",
    "Q272[-4] = pd.NA\n",
    "Q272[-2] = pd.NA\n",
    "Q272[-1] = pd.NA\n",
    "\n",
    "Q272[1105] = pd.NA\n",
    "Q272[1190] = pd.NA\n",
    "Q272[1940] = pd.NA\n",
    "Q272[2190] = pd.NA\n",
    "Q272[3750] = pd.NA\n",
    "Q272[3900] = pd.NA\n",
    "Q272[4530] = pd.NA\n",
    "Q272[9000] = pd.NA\n",
    "Q272[9040] = pd.NA\n",
    "Q272[9060] = pd.NA\n",
    "Q272[9900] = pd.NA"
   ]
  },
  {
   "cell_type": "code",
   "execution_count": 69,
   "metadata": {},
   "outputs": [
    {
     "data": {
      "text/plain": [
       "set()"
      ]
     },
     "execution_count": 69,
     "metadata": {},
     "output_type": "execute_result"
    }
   ],
   "source": [
    "set(demo['Q272'].to_list()) - set(Q272.columns.to_list())"
   ]
  },
  {
   "cell_type": "code",
   "execution_count": 70,
   "metadata": {},
   "outputs": [
    {
     "data": {
      "text/plain": [
       "set()"
      ]
     },
     "execution_count": 70,
     "metadata": {},
     "output_type": "execute_result"
    }
   ],
   "source": [
    "set(demo['Q273'].to_list()) - set(Q273.columns.to_list())"
   ]
  },
  {
   "cell_type": "code",
   "execution_count": 71,
   "metadata": {},
   "outputs": [
    {
     "data": {
      "text/plain": [
       "set()"
      ]
     },
     "execution_count": 71,
     "metadata": {},
     "output_type": "execute_result"
    }
   ],
   "source": [
    "set(demo['Q275'].to_list()) - set(Q275.columns.to_list())"
   ]
  },
  {
   "cell_type": "code",
   "execution_count": 72,
   "metadata": {},
   "outputs": [
    {
     "data": {
      "text/plain": [
       "set()"
      ]
     },
     "execution_count": 72,
     "metadata": {},
     "output_type": "execute_result"
    }
   ],
   "source": [
    "set(demo['Q281'].to_list()) - set(Q281.columns.to_list())"
   ]
  },
  {
   "cell_type": "code",
   "execution_count": 73,
   "metadata": {},
   "outputs": [
    {
     "data": {
      "text/plain": [
       "set()"
      ]
     },
     "execution_count": 73,
     "metadata": {},
     "output_type": "execute_result"
    }
   ],
   "source": [
    "set(demo['Q287'].to_list()) - set(Q287.columns.to_list())"
   ]
  },
  {
   "cell_type": "code",
   "execution_count": 74,
   "metadata": {},
   "outputs": [
    {
     "data": {
      "text/plain": [
       "set()"
      ]
     },
     "execution_count": 74,
     "metadata": {},
     "output_type": "execute_result"
    }
   ],
   "source": [
    "set(demo['Q288R'].to_list()) - set(Q288R.columns.to_list())"
   ]
  },
  {
   "cell_type": "code",
   "execution_count": 75,
   "metadata": {},
   "outputs": [
    {
     "data": {
      "text/plain": [
       "set()"
      ]
     },
     "execution_count": 75,
     "metadata": {},
     "output_type": "execute_result"
    }
   ],
   "source": [
    "set(demo['Q289'].to_list()) - set(Q289.columns.to_list())"
   ]
  },
  {
   "cell_type": "code",
   "execution_count": 76,
   "metadata": {},
   "outputs": [
    {
     "data": {
      "text/plain": [
       "{-5, -4, -3, -2, -1, 203001, 203003}"
      ]
     },
     "execution_count": 76,
     "metadata": {},
     "output_type": "execute_result"
    }
   ],
   "source": [
    "set(demo['Q290'].to_list()) - set(Q290.columns.to_list())"
   ]
  },
  {
   "cell_type": "code",
   "execution_count": 77,
   "metadata": {},
   "outputs": [],
   "source": [
    "Q290[-5] = pd.NA\n",
    "Q290[-4] = pd.NA\n",
    "Q290[-3] = pd.NA\n",
    "Q290[-2] = pd.NA\n",
    "Q290[-1] = pd.NA\n",
    "\n",
    "Q290[203001] = pd.NA\n",
    "Q290[203003] = pd.NA"
   ]
  },
  {
   "cell_type": "code",
   "execution_count": 78,
   "metadata": {},
   "outputs": [
    {
     "data": {
      "text/plain": [
       "set()"
      ]
     },
     "execution_count": 78,
     "metadata": {},
     "output_type": "execute_result"
    }
   ],
   "source": [
    "set(demo['A_YEAR'].to_list()) - set(YEAR.columns.to_list())"
   ]
  },
  {
   "cell_type": "code",
   "execution_count": 79,
   "metadata": {},
   "outputs": [
    {
     "data": {
      "text/plain": [
       "set()"
      ]
     },
     "execution_count": 79,
     "metadata": {},
     "output_type": "execute_result"
    }
   ],
   "source": [
    "set(demo['B_COUNTRY_ALPHA'].to_list()) - set(COUNTRY.columns.to_list())"
   ]
  },
  {
   "cell_type": "code",
   "execution_count": 80,
   "metadata": {},
   "outputs": [
    {
     "data": {
      "text/plain": [
       "0"
      ]
     },
     "execution_count": 80,
     "metadata": {},
     "output_type": "execute_result"
    }
   ],
   "source": [
    "demo['B_COUNTRY_ALPHA'].to_list().count('MAR')"
   ]
  },
  {
   "cell_type": "code",
   "execution_count": 81,
   "metadata": {},
   "outputs": [
    {
     "data": {
      "text/plain": [
       "1200"
      ]
     },
     "execution_count": 81,
     "metadata": {},
     "output_type": "execute_result"
    }
   ],
   "source": [
    "demo['B_COUNTRY_ALPHA'].to_list().count('MOR')"
   ]
  },
  {
   "cell_type": "markdown",
   "metadata": {},
   "source": [
    "#### видимо, марокко закодировали как 'MAR', хотя в кодировке - 'MOR'####\n",
    "\n",
    "#### поменяем в demo все значения 'MAR' на 'MOR' ####"
   ]
  },
  {
   "cell_type": "code",
   "execution_count": 82,
   "metadata": {},
   "outputs": [],
   "source": [
    "from tqdm import tqdm"
   ]
  },
  {
   "cell_type": "code",
   "execution_count": 83,
   "metadata": {},
   "outputs": [
    {
     "name": "stderr",
     "output_type": "stream",
     "text": [
      "  6%|▌         | 5939/97220 [00:00<00:01, 55725.01it/s]"
     ]
    },
    {
     "name": "stderr",
     "output_type": "stream",
     "text": [
      "100%|██████████| 97220/97220 [00:01<00:00, 95646.15it/s] \n"
     ]
    }
   ],
   "source": [
    "for i in tqdm(range(len(demo))):\n",
    "    if demo.loc[i, 'B_COUNTRY_ALPHA'] == 'MAR':\n",
    "        demo.loc[i, 'B_COUNTRY_ALPHA'] = 'MOR'"
   ]
  },
  {
   "cell_type": "code",
   "execution_count": 84,
   "metadata": {},
   "outputs": [],
   "source": [
    "demo.to_csv('/Users/elizavetakuznecenkova/Library/CloudStorage/OneDrive-Personal/Документы/ВШЭ/Курсач/WVS Wave 7/WVS_Cross-National_Wave_7_csv_v6_0.csv')"
   ]
  },
  {
   "cell_type": "code",
   "execution_count": 85,
   "metadata": {},
   "outputs": [
    {
     "data": {
      "text/plain": [
       "0"
      ]
     },
     "execution_count": 85,
     "metadata": {},
     "output_type": "execute_result"
    }
   ],
   "source": [
    "demo['B_COUNTRY_ALPHA'].to_list().count('MAR')"
   ]
  },
  {
   "cell_type": "code",
   "execution_count": 86,
   "metadata": {},
   "outputs": [
    {
     "data": {
      "text/plain": [
       "set()"
      ]
     },
     "execution_count": 86,
     "metadata": {},
     "output_type": "execute_result"
    }
   ],
   "source": [
    "set(demo['B_COUNTRY_ALPHA'].to_list()) - set(COUNTRY.columns.to_list())"
   ]
  },
  {
   "cell_type": "markdown",
   "metadata": {},
   "source": [
    "## Сохраняем промты ##"
   ]
  },
  {
   "cell_type": "code",
   "execution_count": 87,
   "metadata": {},
   "outputs": [],
   "source": [
    "df_for_processing_eng = pd.DataFrame(columns = ['prompt', 'instr_ethical_1', 'instr_ethical_2', 'instr_ethical_3', 'instr_science', 'answer_format', 'answer_format_output'])"
   ]
  },
  {
   "cell_type": "code",
   "execution_count": 88,
   "metadata": {},
   "outputs": [
    {
     "data": {
      "text/plain": [
       "17"
      ]
     },
     "execution_count": 88,
     "metadata": {},
     "output_type": "execute_result"
    }
   ],
   "source": [
    "Q260['idx'].to_list().index('en')"
   ]
  },
  {
   "cell_type": "code",
   "execution_count": 89,
   "metadata": {},
   "outputs": [
    {
     "name": "stderr",
     "output_type": "stream",
     "text": [
      "  0%|          | 0/97220 [00:00<?, ?it/s]"
     ]
    },
    {
     "name": "stderr",
     "output_type": "stream",
     "text": [
      "100%|██████████| 97220/97220 [12:48<00:00, 126.43it/s]\n"
     ]
    }
   ],
   "source": [
    "for i in tqdm(range(len(demo))):\n",
    "\n",
    "    i_gender = demo.loc[i, 'Q260']\n",
    "    gender = Q260.loc[17, i_gender]\n",
    "    \n",
    "    age = demo.loc[i, 'Q262']\n",
    "    if int(age) < 0:\n",
    "        your_age = ''\n",
    "        age = ''\n",
    "    else:\n",
    "        your_age = Q262.loc[17, 0]\n",
    "\n",
    "    i_marital = demo.loc[i, 'Q273']\n",
    "    marital = Q273.loc[17, i_marital]\n",
    "\n",
    "    children = demo.loc[i, 'Q274']\n",
    "    if int(children) < 0:\n",
    "        your_children = ''\n",
    "        children = ''\n",
    "    else:\n",
    "        your_children = Q274.loc[17, 0]\n",
    "        your_children += ':'\n",
    "\n",
    "    i_education = demo.loc[i, 'Q275']\n",
    "    education = Q275.loc[17, i_education]\n",
    "\n",
    "    i_job = demo.loc[i, 'Q281']\n",
    "    job = Q281.loc[17, i_job]\n",
    "\n",
    "    i_social_class = demo.loc[i, 'Q287']\n",
    "    social_class = Q287.loc[17, i_social_class]\n",
    "\n",
    "    i_income = demo.loc[i, 'Q288R']\n",
    "    income = Q288R.loc[17, i_income]\n",
    "    \n",
    "    i_religion = demo.loc[i, 'Q289']\n",
    "    religion = Q289.loc[17, i_religion]\n",
    "\n",
    "    i_year = demo.loc[i, 'A_YEAR']\n",
    "    year = YEAR.loc[17, i_year]\n",
    "\n",
    "    i_language = demo.loc[i, 'Q272']\n",
    "    language = Q272.loc[0, i_language]\n",
    "\n",
    "    i_race = demo.loc[i, 'Q290']\n",
    "    race = Q290.loc[0, i_race]\n",
    "\n",
    "    i_country = demo.loc[i, 'B_COUNTRY_ALPHA']\n",
    "    country = COUNTRY.loc[17, str(i_country)]\n",
    "\n",
    "    prompt = (f\"{year}\\n\"\n",
    "        f\"{your_age} {age}\\n\"\n",
    "        f\"{gender}\\n\"\n",
    "        f\"{country}\\n\"\n",
    "        f\"{education}\\n\"\n",
    "        f\"{income}\\n\"  \n",
    "        f\"{job}\\n\"\n",
    "        f\"{social_class}\\n\"\n",
    "        f\"{marital}\\n\"\n",
    "        f\"{your_children} {children}\\n\"\n",
    "        f\"{religion}\\n\"\n",
    "        f\"{race}\\n\"\n",
    "        f\"{language}\"\n",
    "    )\n",
    "\n",
    "    prompt = prompt.replace('\\nnan.', '')\n",
    "    prompt = prompt.replace('\\n<NA>.', '')\n",
    "    prompt = prompt.replace('\\nnan', '')\n",
    "    prompt = prompt.replace('\\n<NA>', '')\n",
    "\n",
    "    df_for_processing_eng.loc[i, 'prompt'] = prompt"
   ]
  },
  {
   "cell_type": "code",
   "execution_count": 90,
   "metadata": {},
   "outputs": [],
   "source": [
    "df_for_processing_eng['country'] = demo['B_COUNTRY_ALPHA']"
   ]
  },
  {
   "cell_type": "code",
   "execution_count": 91,
   "metadata": {},
   "outputs": [
    {
     "data": {
      "text/plain": [
       "66"
      ]
     },
     "execution_count": 91,
     "metadata": {},
     "output_type": "execute_result"
    }
   ],
   "source": [
    "len(set(df_for_processing_eng['country'].to_list()))"
   ]
  },
  {
   "cell_type": "markdown",
   "metadata": {},
   "source": [
    "## Добавим инструкции ##"
   ]
  },
  {
   "cell_type": "code",
   "execution_count": 92,
   "metadata": {},
   "outputs": [],
   "source": [
    "df = pd.read_csv('/Users/elizavetakuznecenkova/Library/CloudStorage/OneDrive-Personal/Документы/ВШЭ/Курсач/instruction_user/instruction_user.csv')"
   ]
  },
  {
   "cell_type": "code",
   "execution_count": 93,
   "metadata": {},
   "outputs": [
    {
     "data": {
      "text/html": [
       "<div>\n",
       "<style scoped>\n",
       "    .dataframe tbody tr th:only-of-type {\n",
       "        vertical-align: middle;\n",
       "    }\n",
       "\n",
       "    .dataframe tbody tr th {\n",
       "        vertical-align: top;\n",
       "    }\n",
       "\n",
       "    .dataframe thead th {\n",
       "        text-align: right;\n",
       "    }\n",
       "</style>\n",
       "<table border=\"1\" class=\"dataframe\">\n",
       "  <thead>\n",
       "    <tr style=\"text-align: right;\">\n",
       "      <th></th>\n",
       "      <th>Unnamed: 0</th>\n",
       "      <th>lang</th>\n",
       "      <th>lang_num</th>\n",
       "      <th>INSTR_SCIENCE</th>\n",
       "      <th>Q158</th>\n",
       "      <th>Q159</th>\n",
       "      <th>Q160</th>\n",
       "      <th>Q161</th>\n",
       "      <th>Q162</th>\n",
       "      <th>INSTR_ETHICAL</th>\n",
       "      <th>...</th>\n",
       "      <th>Q193</th>\n",
       "      <th>Q194</th>\n",
       "      <th>Q195</th>\n",
       "      <th>INSTR_ETHICAL_1</th>\n",
       "      <th>INSTR_ETHICAL_2</th>\n",
       "      <th>INSTR_ETHICAL_3</th>\n",
       "      <th>instruction_user_ethical_1</th>\n",
       "      <th>instruction_user_ethical_2</th>\n",
       "      <th>instruction_user_ethical_3</th>\n",
       "      <th>instruction_user_science</th>\n",
       "    </tr>\n",
       "  </thead>\n",
       "  <tbody>\n",
       "    <tr>\n",
       "      <th>0</th>\n",
       "      <td>0</td>\n",
       "      <td>ca</td>\n",
       "      <td>810</td>\n",
       "      <td>Si us plau, respongui sobre cadascuna de les s...</td>\n",
       "      <td>La ciència i la tecnología fan que les nostres...</td>\n",
       "      <td>Degut a la ciència i la tecnologia hi haurà mé...</td>\n",
       "      <td>Depenem massa de la ciència i massa poc de la fe</td>\n",
       "      <td>Una de las conseqüències dolentes de la ciènci...</td>\n",
       "      <td>Per mi no és important saber de ciència en la ...</td>\n",
       "      <td>Si us plau, respongui sobre cadascuna de les a...</td>\n",
       "      <td>...</td>\n",
       "      <td>Tenir una relació sexual casual</td>\n",
       "      <td>La violència política</td>\n",
       "      <td>La pena de mort</td>\n",
       "      <td>Si us plau, respongui sobre cadascuna de les a...</td>\n",
       "      <td>Si us plau, respongui sobre cadascuna de les a...</td>\n",
       "      <td>Si us plau, respongui sobre cadascuna de les a...</td>\n",
       "      <td>Si us plau, respongui sobre cadascuna de les a...</td>\n",
       "      <td>Si us plau, respongui sobre cadascuna de les a...</td>\n",
       "      <td>Si us plau, respongui sobre cadascuna de les a...</td>\n",
       "      <td>Si us plau, respongui sobre cadascuna de les s...</td>\n",
       "    </tr>\n",
       "    <tr>\n",
       "      <th>1</th>\n",
       "      <td>1</td>\n",
       "      <td>en</td>\n",
       "      <td>1240</td>\n",
       "      <td>Please answer about each of the following stat...</td>\n",
       "      <td>Science and technology are making our lives he...</td>\n",
       "      <td>Because of science and technology, there will ...</td>\n",
       "      <td>We depend too much on science and not enough o...</td>\n",
       "      <td>One of the bad effects of science is that it b...</td>\n",
       "      <td>It is not important for me to know about scien...</td>\n",
       "      <td>Please answer about each of the following acti...</td>\n",
       "      <td>...</td>\n",
       "      <td>Having casual sex</td>\n",
       "      <td>Political violence</td>\n",
       "      <td>Death penalty</td>\n",
       "      <td>Please answer about each of the following acti...</td>\n",
       "      <td>Please answer about each of the following acti...</td>\n",
       "      <td>Please answer about each of the following acti...</td>\n",
       "      <td>Please answer about each of the following acti...</td>\n",
       "      <td>Please answer about each of the following acti...</td>\n",
       "      <td>Please answer about each of the following acti...</td>\n",
       "      <td>Please answer about each of the following stat...</td>\n",
       "    </tr>\n",
       "    <tr>\n",
       "      <th>2</th>\n",
       "      <td>2</td>\n",
       "      <td>hy</td>\n",
       "      <td>200</td>\n",
       "      <td>Խնդրում ենք պատասխանել հետևյալ հայտարարություն...</td>\n",
       "      <td>Գիտությունը և տեխնոլոգիան մեր կյանքը դարձնում ...</td>\n",
       "      <td>Գիտության և տեխնոլոգիայի շնորհիվ հաջորդ սերուն...</td>\n",
       "      <td>Մենք չափազանց շատ ենք կախված գիտությունից, իսկ...</td>\n",
       "      <td>Գիտության վատ հետևանքներից մեկն այն է, որ այն ...</td>\n",
       "      <td>. Իմ առօրյա կյանքում ինձ համար կարևոր չէ գիտու...</td>\n",
       "      <td>Խնդրում ենք պատասխանել հետևյալներից յուրաքանչյ...</td>\n",
       "      <td>...</td>\n",
       "      <td>Պատահական սեռական կապը</td>\n",
       "      <td>Քաղաքական բռնությունը</td>\n",
       "      <td>Մահապատիժը</td>\n",
       "      <td>Խնդրում ենք պատասխանել հետևյալներից յուրաքանչյ...</td>\n",
       "      <td>Խնդրում ենք պատասխանել հետևյալներից յուրաքանչյ...</td>\n",
       "      <td>Խնդրում ենք պատասխանել հետևյալներից յուրաքանչյ...</td>\n",
       "      <td>Խնդրում ենք պատասխանել հետևյալներից յուրաքանչյ...</td>\n",
       "      <td>Խնդրում ենք պատասխանել հետևյալներից յուրաքանչյ...</td>\n",
       "      <td>Խնդրում ենք պատասխանել հետևյալներից յուրաքանչյ...</td>\n",
       "      <td>Խնդրում ենք պատասխանել հետևյալ հայտարարություն...</td>\n",
       "    </tr>\n",
       "    <tr>\n",
       "      <th>3</th>\n",
       "      <td>3</td>\n",
       "      <td>bn</td>\n",
       "      <td>490</td>\n",
       "      <td>অনুগ্রহ করে নিম্নলিখিত বিবৃতিগুলির প্রতিটি সম্...</td>\n",
       "      <td>বিজ্ঞান এবং প্রযুক্তি আমাদের জীবনকে আরও স্বাস্...</td>\n",
       "      <td>. বিজ্ঞান ও প্রযুক্তির কারণে, পরবর্তী প্রজন্মে...</td>\n",
       "      <td>আমরা বিজ্ঞানের উপর খুব বেশি নির্ভর করি এবং বিশ...</td>\n",
       "      <td>বিজ্ঞানের একটি খারাপ প্রভাব হল এটি মানুষের সঠি...</td>\n",
       "      <td>আমার দৈনন্দিন জীবনে বিজ্ঞান সম্পর্কে জানা আমার...</td>\n",
       "      <td>দয়া করে নীচের প্রতিটি ক্রিয়া সম্পর্কে উত্তর ...</td>\n",
       "      <td>...</td>\n",
       "      <td>নৈমিত্তিক যৌন হচ্ছে</td>\n",
       "      <td>রাজনৈতিক সহিংসতা</td>\n",
       "      <td>মৃত্যুদণ্ড</td>\n",
       "      <td>দয়া করে নীচের প্রতিটি ক্রিয়া সম্পর্কে উত্তর ...</td>\n",
       "      <td>দয়া করে নীচের প্রতিটি ক্রিয়া সম্পর্কে উত্তর ...</td>\n",
       "      <td>দয়া করে নীচের প্রতিটি ক্রিয়া সম্পর্কে উত্তর ...</td>\n",
       "      <td>দয়া করে নীচের প্রতিটি ক্রিয়া সম্পর্কে উত্তর ...</td>\n",
       "      <td>দয়া করে নীচের প্রতিটি ক্রিয়া সম্পর্কে উত্তর ...</td>\n",
       "      <td>দয়া করে নীচের প্রতিটি ক্রিয়া সম্পর্কে উত্তর ...</td>\n",
       "      <td>অনুগ্রহ করে নিম্নলিখিত বিবৃতিগুলির প্রতিটি সম্...</td>\n",
       "    </tr>\n",
       "    <tr>\n",
       "      <th>4</th>\n",
       "      <td>4</td>\n",
       "      <td>pt</td>\n",
       "      <td>3530</td>\n",
       "      <td>Por favor, responda sobre cada uma das seguint...</td>\n",
       "      <td>Ciência e tecnologia estão tornando nossa vida...</td>\n",
       "      <td>Devido à ciência e à tecnologia a próxima gera...</td>\n",
       "      <td>Nós dependemos muito da ciência e nem tanto da fé</td>\n",
       "      <td>Uma das coisas ruins da ciência é que ela acab...</td>\n",
       "      <td>Não é importante para mim saber de ciência no ...</td>\n",
       "      <td>Por favor, responda sobre cada uma das seguint...</td>\n",
       "      <td>...</td>\n",
       "      <td>Ter sexo casual</td>\n",
       "      <td>Violência política</td>\n",
       "      <td>Pena de morte</td>\n",
       "      <td>Por favor, responda sobre cada uma das seguint...</td>\n",
       "      <td>Por favor, responda sobre cada uma das seguint...</td>\n",
       "      <td>Por favor, responda sobre cada uma das seguint...</td>\n",
       "      <td>Por favor, responda sobre cada uma das seguint...</td>\n",
       "      <td>Por favor, responda sobre cada uma das seguint...</td>\n",
       "      <td>Por favor, responda sobre cada uma das seguint...</td>\n",
       "      <td>Por favor, responda sobre cada uma das seguint...</td>\n",
       "    </tr>\n",
       "  </tbody>\n",
       "</table>\n",
       "<p>5 rows × 36 columns</p>\n",
       "</div>"
      ],
      "text/plain": [
       "   Unnamed: 0 lang  lang_num  \\\n",
       "0           0   ca       810   \n",
       "1           1   en      1240   \n",
       "2           2   hy       200   \n",
       "3           3   bn       490   \n",
       "4           4   pt      3530   \n",
       "\n",
       "                                       INSTR_SCIENCE  \\\n",
       "0  Si us plau, respongui sobre cadascuna de les s...   \n",
       "1  Please answer about each of the following stat...   \n",
       "2  Խնդրում ենք պատասխանել հետևյալ հայտարարություն...   \n",
       "3  অনুগ্রহ করে নিম্নলিখিত বিবৃতিগুলির প্রতিটি সম্...   \n",
       "4  Por favor, responda sobre cada uma das seguint...   \n",
       "\n",
       "                                                Q158  \\\n",
       "0  La ciència i la tecnología fan que les nostres...   \n",
       "1  Science and technology are making our lives he...   \n",
       "2  Գիտությունը և տեխնոլոգիան մեր կյանքը դարձնում ...   \n",
       "3  বিজ্ঞান এবং প্রযুক্তি আমাদের জীবনকে আরও স্বাস্...   \n",
       "4  Ciência e tecnologia estão tornando nossa vida...   \n",
       "\n",
       "                                                Q159  \\\n",
       "0  Degut a la ciència i la tecnologia hi haurà mé...   \n",
       "1  Because of science and technology, there will ...   \n",
       "2  Գիտության և տեխնոլոգիայի շնորհիվ հաջորդ սերուն...   \n",
       "3  . বিজ্ঞান ও প্রযুক্তির কারণে, পরবর্তী প্রজন্মে...   \n",
       "4  Devido à ciência e à tecnologia a próxima gera...   \n",
       "\n",
       "                                                Q160  \\\n",
       "0   Depenem massa de la ciència i massa poc de la fe   \n",
       "1  We depend too much on science and not enough o...   \n",
       "2  Մենք չափազանց շատ ենք կախված գիտությունից, իսկ...   \n",
       "3  আমরা বিজ্ঞানের উপর খুব বেশি নির্ভর করি এবং বিশ...   \n",
       "4  Nós dependemos muito da ciência e nem tanto da fé   \n",
       "\n",
       "                                                Q161  \\\n",
       "0  Una de las conseqüències dolentes de la ciènci...   \n",
       "1  One of the bad effects of science is that it b...   \n",
       "2  Գիտության վատ հետևանքներից մեկն այն է, որ այն ...   \n",
       "3  বিজ্ঞানের একটি খারাপ প্রভাব হল এটি মানুষের সঠি...   \n",
       "4  Uma das coisas ruins da ciência é que ela acab...   \n",
       "\n",
       "                                                Q162  \\\n",
       "0  Per mi no és important saber de ciència en la ...   \n",
       "1  It is not important for me to know about scien...   \n",
       "2  . Իմ առօրյա կյանքում ինձ համար կարևոր չէ գիտու...   \n",
       "3  আমার দৈনন্দিন জীবনে বিজ্ঞান সম্পর্কে জানা আমার...   \n",
       "4  Não é importante para mim saber de ciência no ...   \n",
       "\n",
       "                                       INSTR_ETHICAL  ...  \\\n",
       "0  Si us plau, respongui sobre cadascuna de les a...  ...   \n",
       "1  Please answer about each of the following acti...  ...   \n",
       "2  Խնդրում ենք պատասխանել հետևյալներից յուրաքանչյ...  ...   \n",
       "3  দয়া করে নীচের প্রতিটি ক্রিয়া সম্পর্কে উত্তর ...  ...   \n",
       "4  Por favor, responda sobre cada uma das seguint...  ...   \n",
       "\n",
       "                              Q193                    Q194             Q195  \\\n",
       "0  Tenir una relació sexual casual   La violència política  La pena de mort   \n",
       "1                Having casual sex      Political violence    Death penalty   \n",
       "2           Պատահական սեռական կապը  Քաղաքական բռնությունը        Մահապատիժը   \n",
       "3              নৈমিত্তিক যৌন হচ্ছে        রাজনৈতিক সহিংসতা       মৃত্যুদণ্ড   \n",
       "4                  Ter sexo casual      Violência política   Pena de morte    \n",
       "\n",
       "                                     INSTR_ETHICAL_1  \\\n",
       "0  Si us plau, respongui sobre cadascuna de les a...   \n",
       "1  Please answer about each of the following acti...   \n",
       "2  Խնդրում ենք պատասխանել հետևյալներից յուրաքանչյ...   \n",
       "3  দয়া করে নীচের প্রতিটি ক্রিয়া সম্পর্কে উত্তর ...   \n",
       "4  Por favor, responda sobre cada uma das seguint...   \n",
       "\n",
       "                                     INSTR_ETHICAL_2  \\\n",
       "0  Si us plau, respongui sobre cadascuna de les a...   \n",
       "1  Please answer about each of the following acti...   \n",
       "2  Խնդրում ենք պատասխանել հետևյալներից յուրաքանչյ...   \n",
       "3  দয়া করে নীচের প্রতিটি ক্রিয়া সম্পর্কে উত্তর ...   \n",
       "4  Por favor, responda sobre cada uma das seguint...   \n",
       "\n",
       "                                     INSTR_ETHICAL_3  \\\n",
       "0  Si us plau, respongui sobre cadascuna de les a...   \n",
       "1  Please answer about each of the following acti...   \n",
       "2  Խնդրում ենք պատասխանել հետևյալներից յուրաքանչյ...   \n",
       "3  দয়া করে নীচের প্রতিটি ক্রিয়া সম্পর্কে উত্তর ...   \n",
       "4  Por favor, responda sobre cada uma das seguint...   \n",
       "\n",
       "                          instruction_user_ethical_1  \\\n",
       "0  Si us plau, respongui sobre cadascuna de les a...   \n",
       "1  Please answer about each of the following acti...   \n",
       "2  Խնդրում ենք պատասխանել հետևյալներից յուրաքանչյ...   \n",
       "3  দয়া করে নীচের প্রতিটি ক্রিয়া সম্পর্কে উত্তর ...   \n",
       "4  Por favor, responda sobre cada uma das seguint...   \n",
       "\n",
       "                          instruction_user_ethical_2  \\\n",
       "0  Si us plau, respongui sobre cadascuna de les a...   \n",
       "1  Please answer about each of the following acti...   \n",
       "2  Խնդրում ենք պատասխանել հետևյալներից յուրաքանչյ...   \n",
       "3  দয়া করে নীচের প্রতিটি ক্রিয়া সম্পর্কে উত্তর ...   \n",
       "4  Por favor, responda sobre cada uma das seguint...   \n",
       "\n",
       "                          instruction_user_ethical_3  \\\n",
       "0  Si us plau, respongui sobre cadascuna de les a...   \n",
       "1  Please answer about each of the following acti...   \n",
       "2  Խնդրում ենք պատասխանել հետևյալներից յուրաքանչյ...   \n",
       "3  দয়া করে নীচের প্রতিটি ক্রিয়া সম্পর্কে উত্তর ...   \n",
       "4  Por favor, responda sobre cada uma das seguint...   \n",
       "\n",
       "                            instruction_user_science  \n",
       "0  Si us plau, respongui sobre cadascuna de les s...  \n",
       "1  Please answer about each of the following stat...  \n",
       "2  Խնդրում ենք պատասխանել հետևյալ հայտարարություն...  \n",
       "3  অনুগ্রহ করে নিম্নলিখিত বিবৃতিগুলির প্রতিটি সম্...  \n",
       "4  Por favor, responda sobre cada uma das seguint...  \n",
       "\n",
       "[5 rows x 36 columns]"
      ]
     },
     "execution_count": 93,
     "metadata": {},
     "output_type": "execute_result"
    }
   ],
   "source": [
    "df.head()"
   ]
  },
  {
   "cell_type": "code",
   "execution_count": 94,
   "metadata": {},
   "outputs": [
    {
     "data": {
      "text/plain": [
       "1"
      ]
     },
     "execution_count": 94,
     "metadata": {},
     "output_type": "execute_result"
    }
   ],
   "source": [
    "df['lang'].to_list().index('en')"
   ]
  },
  {
   "cell_type": "code",
   "execution_count": 95,
   "metadata": {},
   "outputs": [
    {
     "name": "stdout",
     "output_type": "stream",
     "text": [
      "Please answer about each of the following statements, how much you agree or disagree with each of these statements. For these questions, a 1 means that you “completely disagree” and a 10 means that you “completely agree.” Ratings from 1 to 5 mean that you rather disagree with the following statement. Ratings from 6 to 10 mean that you rather agree with the following statement. You would rate the statement with a 5 or 6 points mark if you do not think the statement is exactly agreeable or disagreeable.  \n",
      "Science and technology are making our lives healthier, easier, and more comfortable.\n",
      "Because of science and technology, there will be more opportunities for the next generation.\n",
      "We depend too much on science and not enough on faith.\n",
      "One of the bad effects of science is that it breaks down people’s ideas of right and wrong.\n",
      "It is not important for me to know about science in my daily life.\n",
      "\n"
     ]
    }
   ],
   "source": [
    "print(df.loc[1, 'instruction_user_science'])"
   ]
  },
  {
   "cell_type": "code",
   "execution_count": 96,
   "metadata": {},
   "outputs": [
    {
     "name": "stderr",
     "output_type": "stream",
     "text": [
      "100%|██████████| 97220/97220 [04:26<00:00, 364.41it/s]\n"
     ]
    }
   ],
   "source": [
    "for i in tqdm(range(len(demo))):\n",
    "    df_for_processing_eng.loc[i, 'instr_ethical_1'] = df.loc[1, 'instruction_user_ethical_1']\n",
    "    df_for_processing_eng.loc[i, 'instr_ethical_2'] = df.loc[1, 'instruction_user_ethical_2']\n",
    "    df_for_processing_eng.loc[i, 'instr_ethical_3'] = df.loc[1, 'instruction_user_ethical_3']\n",
    "    df_for_processing_eng.loc[i, 'instr_science'] = df.loc[1, 'instruction_user_science']"
   ]
  },
  {
   "cell_type": "markdown",
   "metadata": {},
   "source": [
    "## Добавим инструкции, уточняющие задание и формат вывода ##"
   ]
  },
  {
   "cell_type": "code",
   "execution_count": 97,
   "metadata": {},
   "outputs": [],
   "source": [
    "answer_format = pd.read_csv('/Users/elizavetakuznecenkova/Library/CloudStorage/OneDrive-Personal/Документы/ВШЭ/Курсач/answers_format_new.csv')\n",
    "answer_format_output = pd.read_csv('/Users/elizavetakuznecenkova/Library/CloudStorage/OneDrive-Personal/Документы/ВШЭ/Курсач/answers_format_output_new.csv')"
   ]
  },
  {
   "cell_type": "code",
   "execution_count": 98,
   "metadata": {},
   "outputs": [
    {
     "data": {
      "text/plain": [
       "17"
      ]
     },
     "execution_count": 98,
     "metadata": {},
     "output_type": "execute_result"
    }
   ],
   "source": [
    "answer_format['idx'].to_list().index('en')"
   ]
  },
  {
   "cell_type": "code",
   "execution_count": 99,
   "metadata": {},
   "outputs": [
    {
     "name": "stderr",
     "output_type": "stream",
     "text": [
      "100%|██████████| 97220/97220 [02:14<00:00, 725.34it/s]\n"
     ]
    }
   ],
   "source": [
    "for i in tqdm(range(len(demo))):\n",
    "    df_for_processing_eng.loc[i, 'answer_format'] = answer_format.loc[17, 'ans']\n",
    "    df_for_processing_eng.loc[i, 'answer_format_output'] = answer_format_output.loc[17, 'ans']"
   ]
  },
  {
   "cell_type": "code",
   "execution_count": 100,
   "metadata": {},
   "outputs": [],
   "source": [
    "df_for_processing_eng.to_csv('/Users/elizavetakuznecenkova/Library/CloudStorage/OneDrive-Personal/Документы/ВШЭ/Курсач/df_for_processing_eng/df_for_processing_eng.csv')"
   ]
  },
  {
   "cell_type": "code",
   "execution_count": 101,
   "metadata": {},
   "outputs": [
    {
     "data": {
      "text/plain": [
       "97220"
      ]
     },
     "execution_count": 101,
     "metadata": {},
     "output_type": "execute_result"
    }
   ],
   "source": [
    "len(df_for_processing_eng)"
   ]
  }
 ],
 "metadata": {
  "kernelspec": {
   "display_name": "Python 3",
   "language": "python",
   "name": "python3"
  },
  "language_info": {
   "codemirror_mode": {
    "name": "ipython",
    "version": 3
   },
   "file_extension": ".py",
   "mimetype": "text/x-python",
   "name": "python",
   "nbconvert_exporter": "python",
   "pygments_lexer": "ipython3",
   "version": "3.11.5"
  }
 },
 "nbformat": 4,
 "nbformat_minor": 2
}
