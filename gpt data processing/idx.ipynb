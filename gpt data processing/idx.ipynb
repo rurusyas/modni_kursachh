{
 "cells": [
  {
   "cell_type": "code",
   "execution_count": 9,
   "metadata": {},
   "outputs": [],
   "source": [
    "import pandas as pd"
   ]
  },
  {
   "cell_type": "code",
   "execution_count": 10,
   "metadata": {},
   "outputs": [],
   "source": [
    "df_race = pd.read_csv('/Users/rusya/Documents/synthetic_data/questions_new/Q290_new.csv')"
   ]
  },
  {
   "cell_type": "code",
   "execution_count": 11,
   "metadata": {},
   "outputs": [
    {
     "name": "stdout",
     "output_type": "stream",
     "text": [
      "RangeIndex(start=0, stop=71, step=1)\n"
     ]
    }
   ],
   "source": [
    "print(df_race.index)"
   ]
  },
  {
   "cell_type": "code",
   "execution_count": 12,
   "metadata": {},
   "outputs": [
    {
     "name": "stdout",
     "output_type": "stream",
     "text": [
      "index Index(['sq', 'am', 'ar', 'hy', 'az', 'eu', 'bn', 'bik', 'bs', 'bg', 'my', 'ca',\n",
      "       'ceb', 'hr', 'cs', 'da', 'nl', 'en', 'es', 'et', 'fil', 'fi', 'fr',\n",
      "       'gl', 'ka', 'de', 'el', 'ha', 'hil', 'hi', 'hu', 'is', 'ig', 'ilo',\n",
      "       'id', 'it', 'ja', 'kk', 'ky', 'zh', 'ko', 'lt', 'mk', 'ms', 'mn', 'cnr',\n",
      "       'nd', 'no', 'om', 'fa', 'pl', 'pt', 'ro', 'ru', 'sr', 'sn', 'sk', 'sl',\n",
      "       'sw', 'sv', 'tg', 'tsg', 'th', 'tig', 'uk', 'tr', 'ur', 'uz', 'vi',\n",
      "       'war', 'yo'],\n",
      "      dtype='object', name='idx')\n"
     ]
    }
   ],
   "source": [
    "if \"idx\" in df_race.columns:\n",
    "    df_race.set_index(\"idx\", inplace=True)\n",
    "print(\"index\", df_race.index)"
   ]
  },
  {
   "cell_type": "code",
   "execution_count": 13,
   "metadata": {},
   "outputs": [
    {
     "name": "stdout",
     "output_type": "stream",
     "text": [
      "Index(['sq', 'am', 'ar', 'hy', 'az', 'eu', 'bn', 'bik', 'bs', 'bg', 'my', 'ca',\n",
      "       'ceb', 'hr', 'cs', 'da', 'nl', 'en', 'es', 'et', 'fil', 'fi', 'fr',\n",
      "       'gl', 'ka', 'de', 'el', 'ha', 'hil', 'hi', 'hu', 'is', 'ig', 'ilo',\n",
      "       'id', 'it', 'ja', 'kk', 'ky', 'zh', 'ko', 'lt', 'mk', 'ms', 'mn', 'cnr',\n",
      "       'nd', 'no', 'om', 'fa', 'pl', 'pt', 'ro', 'ru', 'sr', 'sn', 'sk', 'sl',\n",
      "       'sw', 'sv', 'tg', 'tsg', 'th', 'tig', 'uk', 'tr', 'ur', 'uz', 'vi',\n",
      "       'war', 'yo'],\n",
      "      dtype='object', name='idx')\n"
     ]
    }
   ],
   "source": [
    "print(df_race.index)"
   ]
  },
  {
   "cell_type": "code",
   "execution_count": 14,
   "metadata": {},
   "outputs": [
    {
     "name": "stdout",
     "output_type": "stream",
     "text": [
      "La teua pertinença racial/grup ètnic és caucàsic blanc.\n"
     ]
    }
   ],
   "source": [
    "race1 = df_race.loc['ca', '20001']\n",
    "print(race1)"
   ]
  }
 ],
 "metadata": {
  "kernelspec": {
   "display_name": "Python 3",
   "language": "python",
   "name": "python3"
  },
  "language_info": {
   "codemirror_mode": {
    "name": "ipython",
    "version": 3
   },
   "file_extension": ".py",
   "mimetype": "text/x-python",
   "name": "python",
   "nbconvert_exporter": "python",
   "pygments_lexer": "ipython3",
   "version": "3.11.5"
  }
 },
 "nbformat": 4,
 "nbformat_minor": 2
}
